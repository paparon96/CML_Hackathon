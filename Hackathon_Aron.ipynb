{
 "cells": [
  {
   "cell_type": "code",
   "execution_count": 8,
   "metadata": {},
   "outputs": [],
   "source": [
    "# Import libraries\n",
    "\n",
    "import pandas as pd\n",
    "import numpy as np\n",
    "import matplotlib.pyplot as plt\n",
    "from sklearn.linear_model import LinearRegression"
   ]
  },
  {
   "cell_type": "code",
   "execution_count": 9,
   "metadata": {},
   "outputs": [
    {
     "name": "stdout",
     "output_type": "stream",
     "text": [
      "(3650, 2)\n",
      "Index(['Date', 'Daily minimum temperatures'], dtype='object')\n"
     ]
    }
   ],
   "source": [
    "# Read in data\n",
    "\n",
    "toy_data = pd.read_csv('toy_example.csv')\n",
    "print(toy_data.shape)\n",
    "print(toy_data.columns)"
   ]
  },
  {
   "cell_type": "code",
   "execution_count": 11,
   "metadata": {},
   "outputs": [],
   "source": [
    "# Look at the data\n",
    "#plt.plot(toy_data['Daily minimum temperatures'])\n",
    "\n",
    "#plt.xticks(np.arange(0, len(toy_data['Date']), 1),toy_data['Date'])\n",
    "#plt.show()"
   ]
  },
  {
   "cell_type": "code",
   "execution_count": 12,
   "metadata": {
    "scrolled": true
   },
   "outputs": [
    {
     "name": "stdout",
     "output_type": "stream",
     "text": [
      "       Date Daily minimum temperatures lag_day1\n",
      "0  1/1/1981                       20.7      NaN\n",
      "1  1/2/1981                       17.9     20.7\n",
      "2  1/3/1981                       18.8     17.9\n",
      "3  1/4/1981                       14.6     18.8\n",
      "4  1/5/1981                       15.8     14.6\n"
     ]
    }
   ],
   "source": [
    "toy_data['lag_day1'] = toy_data['Daily minimum temperatures'].shift(periods = 1)\n",
    "\n",
    "print(toy_data.head())"
   ]
  },
  {
   "cell_type": "code",
   "execution_count": 13,
   "metadata": {},
   "outputs": [
    {
     "name": "stdout",
     "output_type": "stream",
     "text": [
      "<class 'str'>\n",
      "17.9\n"
     ]
    }
   ],
   "source": [
    "print(type(toy_data['Daily minimum temperatures'][1]))\n",
    "print(toy_data['Daily minimum temperatures'][1])"
   ]
  },
  {
   "cell_type": "code",
   "execution_count": 14,
   "metadata": {},
   "outputs": [
    {
     "name": "stdout",
     "output_type": "stream",
     "text": [
      "(499, 3)\n",
      "(499,)\n",
      "(499,)\n",
      "0.6270181820214962\n"
     ]
    }
   ],
   "source": [
    "# Model\n",
    "\n",
    "toy_data = toy_data.iloc[:500,]\n",
    "\n",
    "toy_data['Daily minimum temperatures'] = pd.to_numeric(toy_data['Daily minimum temperatures'])\n",
    "toy_data['lag_day1'] = pd.to_numeric(toy_data['lag_day1'])\n",
    "toy_data = toy_data.dropna()\n",
    "\n",
    "print(toy_data.shape)\n",
    "y = np.array(toy_data['Daily minimum temperatures'])\n",
    "X = np.array(toy_data['lag_day1'])\n",
    "print(X.shape)\n",
    "print(y.shape)\n",
    "\n",
    "X = X.reshape(-1, 1)\n",
    "\n",
    "reg = LinearRegression().fit(X, y)\n",
    "r2_temp = reg.score(X, y)\n",
    "\n",
    "print(r2_temp)"
   ]
  },
  {
   "cell_type": "code",
   "execution_count": null,
   "metadata": {},
   "outputs": [],
   "source": [
    "# Functions\n",
    "\n"
   ]
  },
  {
   "cell_type": "code",
   "execution_count": null,
   "metadata": {},
   "outputs": [],
   "source": [
    "# GET REAL GOOD TIME-SERIES DATA"
   ]
  },
  {
   "cell_type": "markdown",
   "metadata": {},
   "source": [
    "## Function definitions"
   ]
  },
  {
   "cell_type": "code",
   "execution_count": 15,
   "metadata": {},
   "outputs": [],
   "source": [
    "def data_reading(path):\n",
    "    pass"
   ]
  },
  {
   "cell_type": "markdown",
   "metadata": {},
   "source": [
    "### Data preprocessing"
   ]
  },
  {
   "cell_type": "code",
   "execution_count": 3,
   "metadata": {},
   "outputs": [],
   "source": [
    "# Function to handle missing data (after lags as well!)\n",
    "\n",
    "def missing_data_handler():\n",
    "    # linear interpolation\n",
    "    pass"
   ]
  },
  {
   "cell_type": "code",
   "execution_count": null,
   "metadata": {},
   "outputs": [],
   "source": [
    "def lag_creators():\n",
    "    pass"
   ]
  },
  {
   "cell_type": "code",
   "execution_count": 5,
   "metadata": {},
   "outputs": [],
   "source": [
    "# Function to create sequantial train-test split\n",
    "\n",
    "def sequential_train_test(X,y):\n",
    "    pass"
   ]
  },
  {
   "cell_type": "code",
   "execution_count": 6,
   "metadata": {},
   "outputs": [],
   "source": [
    "# Seasonal decomposition\n",
    "def seasonal_decomp(X,y):\n",
    "    pass"
   ]
  },
  {
   "cell_type": "code",
   "execution_count": null,
   "metadata": {},
   "outputs": [],
   "source": [
    "# Dump/Pickle\n",
    "def dump_objects(path):\n",
    "    pass"
   ]
  },
  {
   "cell_type": "code",
   "execution_count": 7,
   "metadata": {},
   "outputs": [],
   "source": [
    "# Saving output files\n",
    "\n",
    "def save_out(model):\n",
    "    pass"
   ]
  },
  {
   "cell_type": "code",
   "execution_count": null,
   "metadata": {},
   "outputs": [],
   "source": [
    "def scaling(X):\n",
    "    "
   ]
  },
  {
   "cell_type": "code",
   "execution_count": 17,
   "metadata": {},
   "outputs": [],
   "source": [
    "def save_out_final_dataset(data):\n",
    "    pass"
   ]
  },
  {
   "cell_type": "code",
   "execution_count": 16,
   "metadata": {},
   "outputs": [],
   "source": [
    "def target_transform(X):\n",
    "    # log of target etc\n",
    "    pass"
   ]
  },
  {
   "cell_type": "code",
   "execution_count": null,
   "metadata": {},
   "outputs": [],
   "source": [
    "def lag_opt(X,y):\n",
    "    # Checks how many columns to use\n",
    "    pass"
   ]
  },
  {
   "cell_type": "code",
   "execution_count": 18,
   "metadata": {},
   "outputs": [],
   "source": [
    "def model_comparison():\n",
    "    pass"
   ]
  },
  {
   "cell_type": "code",
   "execution_count": 20,
   "metadata": {},
   "outputs": [],
   "source": [
    "def sampling(X):\n",
    "    pass"
   ]
  },
  {
   "cell_type": "code",
   "execution_count": 19,
   "metadata": {},
   "outputs": [],
   "source": [
    "def gridsearch():\n",
    "    pass"
   ]
  },
  {
   "cell_type": "code",
   "execution_count": 22,
   "metadata": {},
   "outputs": [],
   "source": [
    "def ensembles():\n",
    "    pass"
   ]
  },
  {
   "cell_type": "code",
   "execution_count": 4,
   "metadata": {},
   "outputs": [],
   "source": [
    "# Function to score model\n",
    "\n",
    "def scoring_func(metric,time_period,X,y):\n",
    "    pass"
   ]
  },
  {
   "cell_type": "code",
   "execution_count": 21,
   "metadata": {},
   "outputs": [],
   "source": [
    "def validation(X):\n",
    "    pass"
   ]
  },
  {
   "cell_type": "code",
   "execution_count": null,
   "metadata": {},
   "outputs": [],
   "source": [
    "# 1 Trying out different models on the different computers\n",
    "# 2 Giving the best models to the Ensemble\n"
   ]
  }
 ],
 "metadata": {
  "kernelspec": {
   "display_name": "Python 3",
   "language": "python",
   "name": "python3"
  },
  "language_info": {
   "codemirror_mode": {
    "name": "ipython",
    "version": 3
   },
   "file_extension": ".py",
   "mimetype": "text/x-python",
   "name": "python",
   "nbconvert_exporter": "python",
   "pygments_lexer": "ipython3",
   "version": "3.7.4"
  },
  "toc": {
   "base_numbering": 1,
   "nav_menu": {},
   "number_sections": true,
   "sideBar": true,
   "skip_h1_title": false,
   "title_cell": "Table of Contents",
   "title_sidebar": "Contents",
   "toc_cell": false,
   "toc_position": {},
   "toc_section_display": true,
   "toc_window_display": false
  }
 },
 "nbformat": 4,
 "nbformat_minor": 2
}
